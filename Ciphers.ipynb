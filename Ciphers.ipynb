{
 "cells": [
  {
   "cell_type": "code",
   "execution_count": 1,
   "metadata": {
    "tags": []
   },
   "outputs": [],
   "source": [
    "# https://deeplearningcourses.com/c/data-science-natural-language-processing-in-python\n",
    "\n",
    "import numpy as np\n",
    "import matplotlib.pyplot as plt\n",
    "\n",
    "import string\n",
    "import random\n",
    "import re\n",
    "import requests\n",
    "import os\n",
    "import textwrap"
   ]
  },
  {
   "cell_type": "code",
   "execution_count": 2,
   "metadata": {
    "collapsed": false,
    "jupyter": {
     "outputs_hidden": false
    }
   },
   "outputs": [
    {
     "name": "stdout",
     "output_type": "stream",
     "text": [
      "['a', 'b', 'c', 'd', 'e', 'f', 'g', 'h', 'i', 'j', 'k', 'l', 'm', 'n', 'o', 'p', 'q', 'r', 's', 't', 'u', 'v', 'w', 'x', 'y', 'z']\n"
     ]
    }
   ],
   "source": [
    "### create substitution cipher\n",
    "\n",
    "# one will act as the key, other as the value\n",
    "letters1 = list(string.ascii_lowercase)\n",
    "letters2 = list(string.ascii_lowercase)\n",
    "\n",
    "print(letters1)\n",
    "\n",
    "true_mapping = {}\n",
    "\n",
    "# shuffle second set of letters\n",
    "random.shuffle(letters2)\n",
    "\n",
    "# populate map\n",
    "for k, v in zip(letters1, letters2):\n",
    "    true_mapping[k] = v"
   ]
  },
  {
   "cell_type": "markdown",
   "metadata": {},
   "source": [
    "ord(ch1) mengembalikan representasi angka (kode Unicode) dari karakter ch1. Angka 97 adalah representasi angka (kode Unicode) dari huruf kecil 'a'. Jadi ord(ch1) - 97 mengurangi representasi angka dari ch1 dengan representasi angka huruf 'a' untuk mendapatkan indeks relatif dari huruf dalam alfabet. Dalam hal ini, ch1 diasumsikan sebagai huruf kecil dan ord(ch1) - 97 akan mengembalikan nilai antara 0 hingga 25, yang merepresentasikan indeks dari huruf dalam alfabet."
   ]
  },
  {
   "cell_type": "code",
   "execution_count": 3,
   "metadata": {
    "collapsed": false,
    "jupyter": {
     "outputs_hidden": false
    }
   },
   "outputs": [],
   "source": [
    "### the language model\n",
    "\n",
    "# initialize Markov matrix\n",
    "M = np.ones((26, 26))\n",
    "\n",
    "# initial state distribution\n",
    "pi = np.zeros(26)\n",
    "\n",
    "# a function to update the Markov matrix\n",
    "def update_transition(ch1, ch2):\n",
    "    # ord('a') = 97, ord('b') = 98, ...\n",
    "    # akan mengembalikan index alfabet\n",
    "    # contoh a = 97 (unicode a), jadi 97 - 97 = 0, 0 adalah index dari alphabet a\n",
    "\n",
    "    i = ord(ch1) - 97\n",
    "    j = ord(ch2) - 97\n",
    "    M[i,j] += 1\n",
    "\n",
    "# a function to update the initial state distribution\n",
    "def update_pi(ch):\n",
    "    i = ord(ch) - 97\n",
    "    pi[i] += 1\n",
    "\n",
    "# get the log-probability of a word / token\n",
    "def get_word_prob(word):\n",
    "    # print(\"word:\", word)\n",
    "\n",
    "    i = ord(word[0]) - 97\n",
    "    logp = np.log(pi[i]) # menetaplan nilai dari index alphabet dari list pi\n",
    "\n",
    "    for ch in word[1:]:\n",
    "        j = ord(ch) - 97\n",
    "        logp += np.log(M[i, j]) # update prob\n",
    "        i = j # update j\n",
    "\n",
    "    return logp\n",
    "\n",
    "# get the probability of a sequence of words\n",
    "def get_sequence_prob(words):\n",
    "    # if input is a string, split into an array of tokens\n",
    "    if type(words) == str:\n",
    "        words = words.split()\n",
    "\n",
    "    logp = 0\n",
    "    for word in words:\n",
    "        logp += get_word_prob(word)\n",
    "\n",
    "    return logp"
   ]
  },
  {
   "cell_type": "code",
   "execution_count": 9,
   "metadata": {
    "collapsed": false,
    "jupyter": {
     "outputs_hidden": false
    }
   },
   "outputs": [
    {
     "name": "stdout",
     "output_type": "stream",
     "text": [
      "Downloading moby dick...\n"
     ]
    },
    {
     "ename": "UnicodeEncodeError",
     "evalue": "'charmap' codec can't encode character '\\ufeff' in position 0: character maps to <undefined>",
     "output_type": "error",
     "traceback": [
      "\u001b[1;31m---------------------------------------------------------------------------\u001b[0m",
      "\u001b[1;31mUnicodeEncodeError\u001b[0m                        Traceback (most recent call last)",
      "Cell \u001b[1;32mIn[9], line 11\u001b[0m\n\u001b[0;32m      8\u001b[0m r \u001b[38;5;241m=\u001b[39m requests\u001b[38;5;241m.\u001b[39mget(\u001b[38;5;124m'\u001b[39m\u001b[38;5;124mhttps://lazyprogrammer.me/course_files/moby_dick.txt\u001b[39m\u001b[38;5;124m'\u001b[39m)\n\u001b[0;32m     10\u001b[0m \u001b[38;5;28;01mwith\u001b[39;00m \u001b[38;5;28mopen\u001b[39m(\u001b[38;5;124m'\u001b[39m\u001b[38;5;124mmoby_dick.txt\u001b[39m\u001b[38;5;124m'\u001b[39m, \u001b[38;5;124m'\u001b[39m\u001b[38;5;124mw\u001b[39m\u001b[38;5;124m'\u001b[39m) \u001b[38;5;28;01mas\u001b[39;00m f:\n\u001b[1;32m---> 11\u001b[0m     \u001b[43mf\u001b[49m\u001b[38;5;241;43m.\u001b[39;49m\u001b[43mwrite\u001b[49m\u001b[43m(\u001b[49m\u001b[43mr\u001b[49m\u001b[38;5;241;43m.\u001b[39;49m\u001b[43mcontent\u001b[49m\u001b[38;5;241;43m.\u001b[39;49m\u001b[43mdecode\u001b[49m\u001b[43m(\u001b[49m\u001b[43m)\u001b[49m\u001b[43m)\u001b[49m\n",
      "File \u001b[1;32m~\\AppData\\Local\\Programs\\Python\\Python310\\lib\\encodings\\cp1252.py:19\u001b[0m, in \u001b[0;36mIncrementalEncoder.encode\u001b[1;34m(self, input, final)\u001b[0m\n\u001b[0;32m     18\u001b[0m \u001b[38;5;28;01mdef\u001b[39;00m \u001b[38;5;21mencode\u001b[39m(\u001b[38;5;28mself\u001b[39m, \u001b[38;5;28minput\u001b[39m, final\u001b[38;5;241m=\u001b[39m\u001b[38;5;28;01mFalse\u001b[39;00m):\n\u001b[1;32m---> 19\u001b[0m     \u001b[38;5;28;01mreturn\u001b[39;00m \u001b[43mcodecs\u001b[49m\u001b[38;5;241;43m.\u001b[39;49m\u001b[43mcharmap_encode\u001b[49m\u001b[43m(\u001b[49m\u001b[38;5;28;43minput\u001b[39;49m\u001b[43m,\u001b[49m\u001b[38;5;28;43mself\u001b[39;49m\u001b[38;5;241;43m.\u001b[39;49m\u001b[43merrors\u001b[49m\u001b[43m,\u001b[49m\u001b[43mencoding_table\u001b[49m\u001b[43m)\u001b[49m[\u001b[38;5;241m0\u001b[39m]\n",
      "\u001b[1;31mUnicodeEncodeError\u001b[0m: 'charmap' codec can't encode character '\\ufeff' in position 0: character maps to <undefined>"
     ]
    }
   ],
   "source": [
    "### create a markov model based on an English dataset\n",
    "# is an edit of https://www.gutenberg.org/ebooks/2701\n",
    "# (I removed the front and back matter)\n",
    "\n",
    "# download the file\n",
    "if not os.path.exists('moby_dick.txt'):\n",
    "    print(\"Downloading moby dick...\")\n",
    "    r = requests.get('https://lazyprogrammer.me/course_files/moby_dick.txt')\n",
    "\n",
    "    with open('moby_dick.txt', 'w') as f:\n",
    "        f.write(r.content.decode())"
   ]
  },
  {
   "cell_type": "code",
   "execution_count": 4,
   "metadata": {
    "collapsed": false,
    "jupyter": {
     "outputs_hidden": false
    }
   },
   "outputs": [],
   "source": [
    "# for replacing non-alpha characters\n",
    "regex = re.compile('[^a-zA-Z]')\n",
    "\n",
    "# load in words\n",
    "for line in open('moby_dick.txt', 'r', encoding='utf-8'):\n",
    "    line = line.rstrip()\n",
    "\n",
    "    # there are blank lines in the file\n",
    "    if line:\n",
    "        line = regex.sub(' ', line) # replace all non-alpha characters with space\n",
    "\n",
    "        # split the tokens in the line and lowercase\n",
    "        tokens = line.lower().split()\n",
    "\n",
    "        for token in tokens:\n",
    "            # update the model\n",
    "\n",
    "            # first letter\n",
    "            ch0 = token[0]\n",
    "            update_pi(ch0)\n",
    "\n",
    "            # other letters\n",
    "            for ch1 in token[1:]:\n",
    "                update_transition(ch0, ch1)\n",
    "                ch0 = ch1\n",
    "\n",
    "# normalize the probabilities\n",
    "pi /= pi.sum()\n",
    "M /= M.sum(axis=1, keepdims=True)"
   ]
  },
  {
   "cell_type": "code",
   "execution_count": 5,
   "metadata": {
    "collapsed": false,
    "jupyter": {
     "outputs_hidden": false
    }
   },
   "outputs": [],
   "source": [
    "### encode a message\n",
    "\n",
    "# this is a random excerpt from Project Gutenberg's\n",
    "# The Adventures of Sherlock Holmes, by Arthur Conan Doyle\n",
    "# https://www.gutenberg.org/ebooks/1661\n",
    "\n",
    "original_message = '''I then lounged down the street and found,\n",
    "as I expected, that there was a mews in a lane which runs down\n",
    "by one wall of the garden. I lent the ostlers a hand in rubbing\n",
    "down their horses, and received in exchange twopence, a glass of\n",
    "half-and-half, two fills of shag tobacco, and as much information\n",
    "as I could desire about Miss Adler, to say nothing of half a dozen\n",
    "other people in the neighbourhood in whom I was not in the least\n",
    "interested, but whose biographies I was compelled to listen to.\n",
    "'''\n",
    "\n",
    "# Away they went, and I was just wondering whether I should not do well\n",
    "# to follow them when up the lane came a neat little landau, the coachman\n",
    "# with his coat only half-buttoned, and his tie under his ear, while all\n",
    "# the tags of his harness were sticking out of the buckles. It hadn't\n",
    "# pulled up before she shot out of the hall door and into it. I only\n",
    "# caught a glimpse of her at the moment, but she was a lovely woman, with\n",
    "# a face that a man might die for.\n",
    "\n",
    "# My cabby drove fast. I don't think I ever drove faster, but the others\n",
    "# were there before us. The cab and the landau with their steaming horses\n",
    "# were in front of the door when I arrived. I paid the man and hurried\n",
    "# into the church. There was not a soul there save the two whom I had\n",
    "# followed and a surpliced clergyman, who seemed to be expostulating with\n",
    "# them. They were all three standing in a knot in front of the altar. I\n",
    "# lounged up the side aisle like any other idler who has dropped into a\n",
    "# church. Suddenly, to my surprise, the three at the altar faced round to\n",
    "# me, and Godfrey Norton came running as hard as he could towards me."
   ]
  },
  {
   "cell_type": "code",
   "execution_count": 6,
   "metadata": {
    "collapsed": false,
    "jupyter": {
     "outputs_hidden": false
    }
   },
   "outputs": [
    {
     "name": "stdout",
     "output_type": "stream",
     "text": [
      "d ukix ebtxyiq qbzx uki ruviiu axq lbtxq  ar d isnifuiq  ukau ukivi zar a mizr dx a eaxi zkdfk vtxr qbzx ow bxi zaee bl uki yavqix  d eixu uki brueivr a kaxq dx vtoodxy qbzx ukidv kbvrir  axq vifidhiq dx isfkaxyi uzbnixfi  a yearr bl kael axq kael  uzb ldeer bl rkay uboaffb  axq ar mtfk dxlbvmaudbx ar d fbteq qirdvi aobtu mdrr aqeiv  ub raw xbukdxy bl kael a qbcix bukiv nibnei dx uki xidykobtvkbbq dx zkbm d zar xbu dx uki eiaru dxuiviruiq  otu zkbri odbyvankdir d zar fbmnieeiq ub edruix ub  \n"
     ]
    }
   ],
   "source": [
    "# a function to encode a message\n",
    "def encode_message(msg):\n",
    "    # downcase\n",
    "    msg = msg.lower()\n",
    "\n",
    "    # replace non-alpha characters\n",
    "    msg = regex.sub(' ', msg)\n",
    "\n",
    "    # make the encoded message\n",
    "    coded_msg = []\n",
    "    for ch in msg: # Looping per character\n",
    "        coded_ch = ch # could just be a space\n",
    "        if ch in true_mapping:\n",
    "            coded_ch = true_mapping[ch]\n",
    "        coded_msg.append(coded_ch)\n",
    "\n",
    "    return ''.join(coded_msg)\n",
    "\n",
    "\n",
    "encoded_message = encode_message(original_message)\n",
    "print(encoded_message)"
   ]
  },
  {
   "cell_type": "code",
   "execution_count": 7,
   "metadata": {
    "collapsed": false,
    "jupyter": {
     "outputs_hidden": false
    }
   },
   "outputs": [],
   "source": [
    "# a function to decode a message\n",
    "\n",
    "def decode_message(msg, word_map):\n",
    "    decoded_msg = []\n",
    "    for ch in msg:\n",
    "        decoded_ch = ch # could just be a space\n",
    "        if ch in word_map:\n",
    "            decoded_ch = word_map[ch]\n",
    "        decoded_msg.append(decoded_ch)\n",
    "\n",
    "    return ''.join(decoded_msg)"
   ]
  },
  {
   "cell_type": "code",
   "execution_count": 8,
   "metadata": {
    "collapsed": false,
    "jupyter": {
     "outputs_hidden": false
    }
   },
   "outputs": [],
   "source": [
    "### run an evolutionary algorithm to decode the message\n",
    "\n",
    "# this is our initialization point\n",
    "dna_pool = []\n",
    "for _ in range(20):\n",
    "  dna = list(string.ascii_lowercase)\n",
    "  random.shuffle(dna)\n",
    "  dna_pool.append(dna)"
   ]
  },
  {
   "cell_type": "code",
   "execution_count": 9,
   "metadata": {},
   "outputs": [],
   "source": [
    "def evolve_offspring(dna_pool, n_children):\n",
    "  # make n_children per offspring\n",
    "  offspring = []\n",
    "\n",
    "  for dna in dna_pool:\n",
    "    for _ in range(n_children):\n",
    "      copy = dna.copy()\n",
    "      j = np.random.randint(len(copy))\n",
    "      k = np.random.randint(len(copy))\n",
    "\n",
    "      # switch\n",
    "      tmp = copy[j]\n",
    "      copy[j] = copy[k]\n",
    "      copy[k] = tmp\n",
    "      offspring.append(copy)\n",
    "\n",
    "  return offspring + dna_pool"
   ]
  },
  {
   "cell_type": "code",
   "execution_count": 10,
   "metadata": {},
   "outputs": [
    {
     "name": "stdout",
     "output_type": "stream",
     "text": [
      "iter: 0 score: -2075.1214177204474 best so far: -1689.0576539347767\n",
      "iter: 200 score: -1210.484328916712 best so far: -1139.2766449185235\n",
      "iter: 400 score: -1210.833330892918 best so far: -1121.7397377348893\n",
      "iter: 600 score: -1172.6048552932716 best so far: -1121.7397377348893\n",
      "iter: 800 score: -1201.3419815193852 best so far: -1121.7397377348893\n"
     ]
    }
   ],
   "source": [
    "num_iters = 1000\n",
    "scores = np.zeros(num_iters)\n",
    "best_dna = None\n",
    "best_map = None\n",
    "best_score = float('-inf')\n",
    "for i in range(num_iters):\n",
    "  if i > 0:\n",
    "    # get offspring from the current dna pool\n",
    "    dna_pool = evolve_offspring(dna_pool, 3)\n",
    "\n",
    "  # calculate score for each dna\n",
    "  dna2score = {}\n",
    "  for dna in dna_pool:\n",
    "    # populate map\n",
    "    current_map = {}\n",
    "    for k, v in zip(letters1, dna):\n",
    "      current_map[k] = v\n",
    "\n",
    "    decoded_message = decode_message(encoded_message, current_map)\n",
    "    score = get_sequence_prob(decoded_message)\n",
    "\n",
    "    # store it\n",
    "    # needs to be a string to be a dict key\n",
    "    dna2score[''.join(dna)] = score\n",
    "\n",
    "    # record the best so far\n",
    "    if score > best_score:\n",
    "      best_dna = dna\n",
    "      best_map = current_map\n",
    "      best_score = score\n",
    "\n",
    "  # average score for this generation\n",
    "  scores[i] = np.mean(list(dna2score.values()))\n",
    "\n",
    "  # keep the best 5 dna\n",
    "  # also turn them back into list of single chars\n",
    "  sorted_dna = sorted(dna2score.items(), key=lambda x: x[1], reverse=True)\n",
    "  dna_pool = [list(k) for k, v in sorted_dna[:5]]\n",
    "\n",
    "  if i % 200 == 0:\n",
    "    print(\"iter:\", i, \"score:\", scores[i], \"best so far:\", best_score)\n"
   ]
  },
  {
   "cell_type": "code",
   "execution_count": 11,
   "metadata": {},
   "outputs": [
    {
     "name": "stdout",
     "output_type": "stream",
     "text": [
      "LL of decoded message: -1121.7397377348893\n",
      "LL of true message: -933.0314936541175\n",
      "true: c, pred: y\n",
      "true: g, pred: w\n",
      "true: h, pred: p\n",
      "true: i, pred: t\n",
      "true: j, pred: q\n",
      "true: k, pred: j\n",
      "true: m, pred: c\n",
      "true: n, pred: r\n",
      "true: p, pred: k\n",
      "true: q, pred: z\n",
      "true: r, pred: n\n",
      "true: s, pred: i\n",
      "true: t, pred: s\n",
      "true: v, pred: h\n",
      "true: w, pred: m\n",
      "true: y, pred: g\n",
      "true: z, pred: v\n"
     ]
    }
   ],
   "source": [
    "# use best score\n",
    "decoded_message = decode_message(encoded_message, best_map)\n",
    "\n",
    "print(\"LL of decoded message:\", get_sequence_prob(decoded_message))\n",
    "print(\"LL of true message:\", get_sequence_prob(regex.sub(' ', original_message.lower())))\n",
    "\n",
    "\n",
    "# which letters are wrong?\n",
    "for true, v in true_mapping.items():\n",
    "  pred = best_map[v]\n",
    "  if true != pred:\n",
    "    print(\"true: %s, pred: %s\" % (true, pred))"
   ]
  },
  {
   "cell_type": "code",
   "execution_count": 12,
   "metadata": {},
   "outputs": [
    {
     "name": "stdout",
     "output_type": "stream",
     "text": [
      "Decoded message:\n",
      " t sper lourwed domr spe isnees ard fourd  ai t exkeysed  spas spene\n",
      "mai a cemi tr a lare mptyp nuri domr bg ore mall of spe wander  t lers\n",
      "spe oisleni a pard tr nubbtrw domr spetn poniei  ard neyethed tr\n",
      "exyparwe smokerye  a wlaii of palf ard palf  smo ftlli of ipaw sobayyo\n",
      "ard ai cuyp trfoncastor ai t yould deitne abous ctii adlen  so iag\n",
      "rosptrw of palf a dover ospen keokle tr spe retwpbounpood tr mpoc t\n",
      "mai ros tr spe leais trseneised  bus mpoie btownakptei t mai yockelled\n",
      "so ltiser so\n",
      "\n",
      "True message:\n",
      " I then lounged down the street and found,\n",
      "as I expected, that there was a mews in a lane which runs down\n",
      "by one wall of the garden. I lent the ostlers a hand in rubbing\n",
      "down their horses, and received in exchange twopence, a glass of\n",
      "half-and-half, two fills of shag tobacco, and as much information\n",
      "as I could desire about Miss Adler, to say nothing of half a dozen\n",
      "other people in the neighbourhood in whom I was not in the least\n",
      "interested, but whose biographies I was compelled to listen to.\n",
      "\n"
     ]
    }
   ],
   "source": [
    "# print the final decoded message\n",
    "print(\"Decoded message:\\n\", textwrap.fill(decoded_message))\n",
    "\n",
    "print(\"\\nTrue message:\\n\", original_message)"
   ]
  },
  {
   "cell_type": "code",
   "execution_count": 13,
   "metadata": {},
   "outputs": [
    {
     "data": {
      "image/png": "[encoded data removed]",
      "text/plain": [
       "<Figure size 640x480 with 1 Axes>"
      ]
     },
     "metadata": {},
     "output_type": "display_data"
    }
   ],
   "source": [
    "plt.plot(scores)\n",
    "plt.show()"
   ]
  },
  {
   "cell_type": "code",
   "execution_count": null,
   "metadata": {},
   "outputs": [],
   "source": []
  }
 ],
 "metadata": {
  "kernelspec": {
   "display_name": "Python 3 (ipykernel)",
   "language": "python",
   "name": "python3"
  },
  "language_info": {
   "codemirror_mode": {
    "name": "ipython",
    "version": 3
   },
   "file_extension": ".py",
   "mimetype": "text/x-python",
   "name": "python",
   "nbconvert_exporter": "python",
   "pygments_lexer": "ipython3",
   "version": "3.9.13"
  }
 },
 "nbformat": 4,
 "nbformat_minor": 4
}
